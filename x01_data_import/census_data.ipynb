{
 "cells": [
  {
   "cell_type": "code",
   "execution_count": 2,
   "id": "748d0826",
   "metadata": {},
   "outputs": [],
   "source": [
    "import pandas as pd\n",
    "import numpy as np\n",
    "import pathmagic\n",
    "import initialise as init\n",
    "import glob\n",
    "import sys,os\n",
    "from functools import reduce"
   ]
  },
  {
   "cell_type": "code",
   "execution_count": 3,
   "id": "0777078a",
   "metadata": {},
   "outputs": [
    {
     "name": "stdout",
     "output_type": "stream",
     "text": [
      "07  has no lsoa group, so msoa group used\n"
     ]
    },
    {
     "data": {
      "text/plain": [
       "{'lsoa': [0, 1], 'msoa': [2]}"
      ]
     },
     "execution_count": 3,
     "metadata": {},
     "output_type": "execute_result"
    }
   ],
   "source": [
    "# get list of census files to load\n",
    "\n",
    "#10, 14 removed\n",
    "# census_files_to_load = ['01','02','03','04','05','06','07','08','09','11','12','13','15','16','17','18','19','20']\n",
    "census_files_to_load = ['01','02','07']\n",
    "\n",
    "\n",
    "census_path = init.raw_path + \"/census_data/\"\n",
    "\n",
    "census_files_paths = []\n",
    "\n",
    "area_code_dict = {'lsoa':[], 'msoa':[]}\n",
    "\n",
    "index_file_counter = 0\n",
    "\n",
    "for x in census_files_to_load:\n",
    "    file_to_append = census_path + \"census2021-ts0\" + x + \"/census2021-ts0\" + x + \"-lsoa.csv\"\n",
    "    append_file = True\n",
    "    \n",
    "    if os.path.exists(file_to_append) == False:\n",
    "        file_to_append = file_to_append.replace('lsoa', 'msoa')\n",
    "        if os.path.exists(file_to_append) == False:\n",
    "            print(x, \" has no lsoa or msoa group\")\n",
    "            append_file = False  \n",
    "        else:\n",
    "            print(x, \" has no lsoa group, so msoa group used\")\n",
    "            area_code_dict['msoa'].append(index_file_counter)\n",
    "            \n",
    "    else:\n",
    "        area_code_dict['lsoa'].append(index_file_counter)\n",
    "    if append_file:\n",
    "        census_files_paths.append(file_to_append)\n",
    "        \n",
    "    index_file_counter +=1\n",
    "    \n",
    "census_files_paths\n",
    "\n",
    "area_code_dict"
   ]
  },
  {
   "cell_type": "code",
   "execution_count": 4,
   "id": "51cd34bb",
   "metadata": {},
   "outputs": [
    {
     "name": "stdout",
     "output_type": "stream",
     "text": [
      "loading C:/Users/farqu/Documents/DS_Masters/DSMP/data/x01_raw/census_data/census2021-ts001/census2021-ts001-lsoa.csv\n",
      "loading C:/Users/farqu/Documents/DS_Masters/DSMP/data/x01_raw/census_data/census2021-ts002/census2021-ts002-lsoa.csv\n",
      "loading C:/Users/farqu/Documents/DS_Masters/DSMP/data/x01_raw/census_data/census2021-ts007/census2021-ts007-msoa.csv\n"
     ]
    }
   ],
   "source": [
    "# load census data\n",
    "census_dfs = []\n",
    "for x in census_files_paths:\n",
    "    print('loading', x)\n",
    "    census_dfs.append(pd.read_csv(x))"
   ]
  },
  {
   "cell_type": "code",
   "execution_count": 5,
   "id": "b6d9da95",
   "metadata": {},
   "outputs": [],
   "source": [
    "# create starting file (all unique lsoa and msoa codes) - required to join msoa to lsoa\n",
    "master_areacode_file_name = \"PCD_OA_LSOA_MSOA_LAD_AUG22_UK_LU.csv\"\n",
    "master_areacode_file = pd.read_csv(census_path + master_areacode_file_name, usecols = ['lsoa11cd', 'msoa11cd'],  encoding = \"ISO-8859-1\")\n",
    "master_areacode_file = master_areacode_file[~master_areacode_file.duplicated(subset = 'lsoa11cd', keep = 'first')]\n",
    "master_areacode_file.dropna(axis = 0, inplace = True)"
   ]
  },
  {
   "cell_type": "code",
   "execution_count": 6,
   "id": "c1db54ac",
   "metadata": {},
   "outputs": [],
   "source": [
    "# join onto master file by msoa if msoa or lsoa if lsoa\n",
    "for i,census_df in enumerate(census_dfs):\n",
    "    if i in area_code_dict['lsoa']:\n",
    "        master_areacode_file = master_areacode_file.merge(census_df, left_on = 'lsoa11cd', right_on = 'geography code', how = 'outer')\n",
    "    \n",
    "    elif i in area_code_dict['msoa']:\n",
    "        master_areacode_file = master_areacode_file.merge(census_df, left_on = 'msoa11cd', right_on = 'geography code', how = 'outer')\n"
   ]
  },
  {
   "cell_type": "code",
   "execution_count": 7,
   "id": "306b62fa",
   "metadata": {},
   "outputs": [
    {
     "data": {
      "text/plain": [
       "lsoa11cd                                          4234\n",
       "msoa11cd                                          4234\n",
       "date_x                                           11183\n",
       "geography_x                                      11183\n",
       "geography code_x                                 11183\n",
       "                                                 ...  \n",
       "Age: Aged 96 years; measures: Value              12623\n",
       "Age: Aged 97 years; measures: Value              12623\n",
       "Age: Aged 98 years; measures: Value              12623\n",
       "Age: Aged 99 years; measures: Value              12623\n",
       "Age: Aged 100 years and over; measures: Value    12623\n",
       "Length: 145, dtype: int64"
      ]
     },
     "execution_count": 7,
     "metadata": {},
     "output_type": "execute_result"
    }
   ],
   "source": [
    "master_areacode_file.isna().sum()"
   ]
  },
  {
   "cell_type": "code",
   "execution_count": 14,
   "id": "41c1f05d",
   "metadata": {},
   "outputs": [
    {
     "data": {
      "text/plain": [
       "680           St Albans 014B\n",
       "681           St Albans 014C\n",
       "682           St Albans 014A\n",
       "683           St Albans 014D\n",
       "684           St Albans 013C\n",
       "                ...         \n",
       "44641           Newport 019E\n",
       "44642           Newport 019F\n",
       "44643    Merthyr Tydfil 005E\n",
       "44644    Merthyr Tydfil 005F\n",
       "44645    Merthyr Tydfil 006G\n",
       "Name: geography_x, Length: 35672, dtype: object"
      ]
     },
     "execution_count": 14,
     "metadata": {},
     "output_type": "execute_result"
    }
   ],
   "source": [
    "master_areacode_file[~master_areacode_file['geography_x'].isna()]['geography_x']\n"
   ]
  },
  {
   "cell_type": "code",
   "execution_count": 10,
   "id": "4220074a",
   "metadata": {},
   "outputs": [
    {
     "data": {
      "text/html": [
       "<div>\n",
       "<style scoped>\n",
       "    .dataframe tbody tr th:only-of-type {\n",
       "        vertical-align: middle;\n",
       "    }\n",
       "\n",
       "    .dataframe tbody tr th {\n",
       "        vertical-align: top;\n",
       "    }\n",
       "\n",
       "    .dataframe thead th {\n",
       "        text-align: right;\n",
       "    }\n",
       "</style>\n",
       "<table border=\"1\" class=\"dataframe\">\n",
       "  <thead>\n",
       "    <tr style=\"text-align: right;\">\n",
       "      <th></th>\n",
       "      <th>pcd7</th>\n",
       "      <th>pcd8</th>\n",
       "      <th>pcds</th>\n",
       "      <th>dointr</th>\n",
       "      <th>doterm</th>\n",
       "      <th>usertype</th>\n",
       "      <th>oa11cd</th>\n",
       "      <th>lsoa11cd</th>\n",
       "      <th>msoa11cd</th>\n",
       "      <th>ladcd</th>\n",
       "      <th>lsoa11nm</th>\n",
       "      <th>msoa11nm</th>\n",
       "      <th>ladnm</th>\n",
       "      <th>ladnmw</th>\n",
       "    </tr>\n",
       "  </thead>\n",
       "  <tbody>\n",
       "    <tr>\n",
       "      <th>0</th>\n",
       "      <td>AB1 0AA</td>\n",
       "      <td>AB1  0AA</td>\n",
       "      <td>AB1 0AA</td>\n",
       "      <td>198001</td>\n",
       "      <td>199606</td>\n",
       "      <td>0</td>\n",
       "      <td>S00090303</td>\n",
       "      <td>S01006514</td>\n",
       "      <td>S02001237</td>\n",
       "      <td>S12000033</td>\n",
       "      <td>Cults, Bieldside and Milltimber West - 02</td>\n",
       "      <td>Cults, Bieldside and Milltimber West</td>\n",
       "      <td>Aberdeen City</td>\n",
       "      <td>NaN</td>\n",
       "    </tr>\n",
       "    <tr>\n",
       "      <th>1</th>\n",
       "      <td>AB1 0AB</td>\n",
       "      <td>AB1  0AB</td>\n",
       "      <td>AB1 0AB</td>\n",
       "      <td>198001</td>\n",
       "      <td>199606</td>\n",
       "      <td>0</td>\n",
       "      <td>S00090303</td>\n",
       "      <td>S01006514</td>\n",
       "      <td>S02001237</td>\n",
       "      <td>S12000033</td>\n",
       "      <td>Cults, Bieldside and Milltimber West - 02</td>\n",
       "      <td>Cults, Bieldside and Milltimber West</td>\n",
       "      <td>Aberdeen City</td>\n",
       "      <td>NaN</td>\n",
       "    </tr>\n",
       "    <tr>\n",
       "      <th>2</th>\n",
       "      <td>AB1 0AD</td>\n",
       "      <td>AB1  0AD</td>\n",
       "      <td>AB1 0AD</td>\n",
       "      <td>198001</td>\n",
       "      <td>199606</td>\n",
       "      <td>0</td>\n",
       "      <td>S00090399</td>\n",
       "      <td>S01006514</td>\n",
       "      <td>S02001237</td>\n",
       "      <td>S12000033</td>\n",
       "      <td>Cults, Bieldside and Milltimber West - 02</td>\n",
       "      <td>Cults, Bieldside and Milltimber West</td>\n",
       "      <td>Aberdeen City</td>\n",
       "      <td>NaN</td>\n",
       "    </tr>\n",
       "    <tr>\n",
       "      <th>3</th>\n",
       "      <td>AB1 0AE</td>\n",
       "      <td>AB1  0AE</td>\n",
       "      <td>AB1 0AE</td>\n",
       "      <td>199402</td>\n",
       "      <td>199606</td>\n",
       "      <td>0</td>\n",
       "      <td>S00091322</td>\n",
       "      <td>S01006853</td>\n",
       "      <td>S02001296</td>\n",
       "      <td>S12000034</td>\n",
       "      <td>Dunecht, Durris and Drumoak - 01</td>\n",
       "      <td>Dunecht, Durris and Drumoak</td>\n",
       "      <td>Aberdeenshire</td>\n",
       "      <td>NaN</td>\n",
       "    </tr>\n",
       "    <tr>\n",
       "      <th>4</th>\n",
       "      <td>AB1 0AF</td>\n",
       "      <td>AB1  0AF</td>\n",
       "      <td>AB1 0AF</td>\n",
       "      <td>199012</td>\n",
       "      <td>199207</td>\n",
       "      <td>1</td>\n",
       "      <td>S00090299</td>\n",
       "      <td>S01006511</td>\n",
       "      <td>S02001236</td>\n",
       "      <td>S12000033</td>\n",
       "      <td>Culter - 06</td>\n",
       "      <td>Culter</td>\n",
       "      <td>Aberdeen City</td>\n",
       "      <td>NaN</td>\n",
       "    </tr>\n",
       "  </tbody>\n",
       "</table>\n",
       "</div>"
      ],
      "text/plain": [
       "      pcd7      pcd8     pcds  dointr  doterm  usertype     oa11cd   lsoa11cd  \\\n",
       "0  AB1 0AA  AB1  0AA  AB1 0AA  198001  199606         0  S00090303  S01006514   \n",
       "1  AB1 0AB  AB1  0AB  AB1 0AB  198001  199606         0  S00090303  S01006514   \n",
       "2  AB1 0AD  AB1  0AD  AB1 0AD  198001  199606         0  S00090399  S01006514   \n",
       "3  AB1 0AE  AB1  0AE  AB1 0AE  199402  199606         0  S00091322  S01006853   \n",
       "4  AB1 0AF  AB1  0AF  AB1 0AF  199012  199207         1  S00090299  S01006511   \n",
       "\n",
       "    msoa11cd      ladcd                                   lsoa11nm  \\\n",
       "0  S02001237  S12000033  Cults, Bieldside and Milltimber West - 02   \n",
       "1  S02001237  S12000033  Cults, Bieldside and Milltimber West - 02   \n",
       "2  S02001237  S12000033  Cults, Bieldside and Milltimber West - 02   \n",
       "3  S02001296  S12000034           Dunecht, Durris and Drumoak - 01   \n",
       "4  S02001236  S12000033                                Culter - 06   \n",
       "\n",
       "                               msoa11nm          ladnm  ladnmw  \n",
       "0  Cults, Bieldside and Milltimber West  Aberdeen City     NaN  \n",
       "1  Cults, Bieldside and Milltimber West  Aberdeen City     NaN  \n",
       "2  Cults, Bieldside and Milltimber West  Aberdeen City     NaN  \n",
       "3           Dunecht, Durris and Drumoak  Aberdeenshire     NaN  \n",
       "4                                Culter  Aberdeen City     NaN  "
      ]
     },
     "execution_count": 10,
     "metadata": {},
     "output_type": "execute_result"
    }
   ],
   "source": [
    "test_file.head()"
   ]
  },
  {
   "cell_type": "code",
   "execution_count": 11,
   "id": "bf53bd8d",
   "metadata": {},
   "outputs": [
    {
     "data": {
      "text/plain": [
       "35672"
      ]
     },
     "execution_count": 11,
     "metadata": {},
     "output_type": "execute_result"
    }
   ],
   "source": [
    "len(census_dfs[0])"
   ]
  },
  {
   "cell_type": "code",
   "execution_count": null,
   "id": "e847e2a7",
   "metadata": {},
   "outputs": [],
   "source": []
  }
 ],
 "metadata": {
  "kernelspec": {
   "display_name": "Python 3 (ipykernel)",
   "language": "python",
   "name": "python3"
  },
  "language_info": {
   "codemirror_mode": {
    "name": "ipython",
    "version": 3
   },
   "file_extension": ".py",
   "mimetype": "text/x-python",
   "name": "python",
   "nbconvert_exporter": "python",
   "pygments_lexer": "ipython3",
   "version": "3.9.7"
  }
 },
 "nbformat": 4,
 "nbformat_minor": 5
}
